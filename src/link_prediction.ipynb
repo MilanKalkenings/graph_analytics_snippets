{
 "cells": [
  {
   "cell_type": "markdown",
   "metadata": {},
   "source": [
    "# Link Prediction\n",
    "- given two nodes, predict if there is an edge between them\n",
    "- negative sampling: actual edges are used as *positives*, equally many non-existing edges are sampled as *negatives*\n",
    "- graph convolutional network (GCN) creates node embeddings\n",
    "    - predicted edge probability: $\\sigma(GCN(node_i)^T GCN(node_j))$\n",
    "\n",
    "### Simple Graph Representation\n",
    "- node_features of shape [V, fn], V: number of nodes, fn: number of node features\n",
    "- edges of shape [E, 2], E: number of edges, 2: ids of the edge nodes"
   ]
  },
  {
   "cell_type": "code",
   "execution_count": 1,
   "metadata": {},
   "outputs": [],
   "source": [
    "import torch\n",
    "from torch_geometric.data import Data\n",
    "from torch_geometric.loader import DataLoader\n",
    "import torch.nn.functional as F\n",
    "from torch_geometric.nn import GCNConv\n",
    "from torch_geometric.utils import negative_sampling\n",
    "import torch.optim as optim\n",
    "from typing import Tuple\n",
    "from sklearn.metrics import f1_score\n",
    "\n",
    "\n",
    "class GCNLinkPredictor(torch.nn.Module):\n",
    "    def __init__(self, input_dim: int, hidden_dim: int, output_dim: int):\n",
    "        super(GCNLinkPredictor, self).__init__()\n",
    "        self.conv1 = GCNConv(input_dim, hidden_dim)\n",
    "        self.conv2 = GCNConv(hidden_dim, output_dim)\n",
    "    \n",
    "    def encode(self, x: torch.Tensor, edge_index: torch.Tensor) -> torch.Tensor:\n",
    "        x = F.relu(self.conv1(x, edge_index))\n",
    "        return self.conv2(x, edge_index)\n",
    "\n",
    "    def decode(self, z: torch.Tensor, edge_index: torch.Tensor) -> torch.Tensor:\n",
    "        return torch.sigmoid((z[edge_index[0]] * z[edge_index[1]]).sum(dim=1))\n",
    "\n",
    "    def forward(self, data: Data) -> torch.Tensor:\n",
    "        z = self.encode(data.x, data.edge_index)\n",
    "        return self.decode(z, data.edge_index)\n",
    "    \n",
    "\n",
    "def loss_fn(pos_pred: torch.Tensor, neg_pred: torch.Tensor) -> torch.Tensor:\n",
    "    labels = torch.cat([torch.ones_like(pos_pred), torch.zeros_like(neg_pred)])\n",
    "    preds = torch.cat([pos_pred, neg_pred])\n",
    "    return F.binary_cross_entropy_with_logits(preds, labels)\n",
    "\n",
    "\n",
    "def train(model: GCNLinkPredictor, loader: DataLoader, optimizer: torch.optim.Optimizer) -> float:\n",
    "    model.train()\n",
    "    total_loss = 0\n",
    "    for data in loader:\n",
    "        optimizer.zero_grad()\n",
    "        # positives: existing edges \n",
    "        pos_pred = model(data)\n",
    "        # negatives: non-existing edges\n",
    "        neg_edge_index = negative_sampling(\n",
    "            edge_index=data.edge_index, num_nodes=data.num_nodes, num_neg_samples=data.edge_index.size(1)\n",
    "        )\n",
    "        neg_pred = model.decode(model.encode(data.x, data.edge_index), neg_edge_index)\n",
    "        # loss\n",
    "        loss = loss_fn(pos_pred, neg_pred)\n",
    "        loss.backward()\n",
    "        optimizer.step()\n",
    "        total_loss += loss.item()\n",
    "    return total_loss / len(loader)\n",
    "\n",
    "\n",
    "def evaluate(model: GCNLinkPredictor, loader: DataLoader) -> float:\n",
    "    model.eval()\n",
    "    preds = []\n",
    "    labels = []\n",
    "    with torch.no_grad():\n",
    "        for data in loader:\n",
    "            pos_pred = model(data)\n",
    "            \n",
    "            neg_edge_index = negative_sampling(\n",
    "                edge_index=data.edge_index, num_nodes=data.num_nodes, num_neg_samples=data.edge_index.size(1)\n",
    "            )\n",
    "            \n",
    "            neg_pred = model.decode(model.encode(data.x, data.edge_index), neg_edge_index)\n",
    "\n",
    "            # Concatenate predictions and labels\n",
    "            preds.append(torch.cat([pos_pred, neg_pred]))\n",
    "            labels.append(torch.cat([torch.ones_like(pos_pred), torch.zeros_like(neg_pred)]))\n",
    "    preds = torch.round(torch.cat(preds))\n",
    "    labels = torch.cat(labels)\n",
    "    return f1_score(y_pred=preds.numpy(), y_true=labels.numpy())\n",
    "\n",
    "\n",
    "def synth_graph(V: int, E: int) -> Tuple[torch.Tensor, torch.Tensor]:\n",
    "    node_features = torch.randn(V, 3)\n",
    "    edges = torch.randint(0, V, (E, 2))\n",
    "    for i in range(V):\n",
    "        if not (edges == i).any():\n",
    "            edges[torch.randint(0, V, (1,))] = i\n",
    "    return node_features, edges\n",
    "\n",
    "\n",
    "def split(node_features: torch.Tensor, edges: torch.Tensor) -> Tuple[DataLoader, DataLoader, DataLoader]:\n",
    "    \"\"\"\n",
    "    expects a basic graph representation:\n",
    "    - node_features of shape [V, fn], V: number of nodes, fn: number of node features\n",
    "    - edges of shape [E, 2], E: number of edges, 2: ids of the edge nodes\n",
    "    \"\"\"\n",
    "    E = len(edges)\n",
    "    edge_index = edges.t().contiguous()\n",
    "    train_data = Data(x=node_features, edge_index=edge_index[:, :int(E * 0.8)])\n",
    "    val_data = Data(x=node_features, edge_index=edge_index[:, int(E * 0.8):int(E * 0.9)])\n",
    "    test_data = Data(x=node_features, edge_index=edge_index[:, int(E * 0.9):])\n",
    "    train_loader = DataLoader([train_data], batch_size=1, shuffle=True)\n",
    "    val_loader = DataLoader([val_data], batch_size=1, shuffle=False)\n",
    "    test_loader = DataLoader([test_data], batch_size=1, shuffle=False)\n",
    "    return train_loader, val_loader, test_loader"
   ]
  },
  {
   "cell_type": "code",
   "execution_count": 2,
   "metadata": {},
   "outputs": [
    {
     "name": "stdout",
     "output_type": "stream",
     "text": [
      "Epoch: 0, Loss: 0.7294, train f1: 0.6688, val f1: 0.6774\n",
      "Epoch: 20, Loss: 0.6833, train f1: 0.6990, val f1: 0.8054\n",
      "Epoch: 40, Loss: 0.6736, train f1: 0.7086, val f1: 0.8106\n",
      "Epoch: 60, Loss: 0.6696, train f1: 0.7107, val f1: 0.8225\n",
      "Epoch: 80, Loss: 0.6674, train f1: 0.7093, val f1: 0.8310\n",
      "Epoch: 100, Loss: 0.6609, train f1: 0.7113, val f1: 0.8340\n",
      "Epoch: 120, Loss: 0.6608, train f1: 0.7041, val f1: 0.8442\n",
      "Epoch: 140, Loss: 0.6603, train f1: 0.7059, val f1: 0.8349\n",
      "Epoch: 160, Loss: 0.6578, train f1: 0.7026, val f1: 0.8390\n",
      "Epoch: 180, Loss: 0.6570, train f1: 0.7024, val f1: 0.8402\n",
      "Test Accuracy: 0.8498\n"
     ]
    }
   ],
   "source": [
    "# parameters\n",
    "epochs = 200\n",
    "V = 10_000\n",
    "E = 20_000\n",
    "\n",
    "# synthesize data, split into train val test\n",
    "node_features, edges = synth_graph(V=V, E=E)\n",
    "train_loader, val_loader, test_loader = split(node_features=node_features, edges=edges)\n",
    "\n",
    "\n",
    "# train eval\n",
    "model = GCNLinkPredictor(input_dim=3, hidden_dim=16, output_dim=16)\n",
    "optimizer = optim.Adam(model.parameters(), lr=0.09)\n",
    "for epoch in range(epochs):\n",
    "    loss = train(model, train_loader, optimizer)\n",
    "    if epoch % 20 == 0:\n",
    "        train_f1 = evaluate(model, train_loader) \n",
    "        val_f1 = evaluate(model, val_loader)\n",
    "        print(f'Epoch: {epoch}, Loss: {loss:.4f}, train f1: {train_f1:.4f}, val f1: {val_f1:.4f}')\n",
    "print(f'Test Accuracy: {evaluate(model, test_loader):.4f}')"
   ]
  },
  {
   "cell_type": "markdown",
   "metadata": {},
   "source": [
    "# visualize link prediction"
   ]
  },
  {
   "cell_type": "code",
   "execution_count": 7,
   "metadata": {},
   "outputs": [
    {
     "data": {
      "image/png": "[encoded data removed]",
      "text/plain": [
       "<Figure size 640x480 with 1 Axes>"
      ]
     },
     "metadata": {},
     "output_type": "display_data"
    }
   ],
   "source": [
    "import networkx as nx\n",
    "import matplotlib.pyplot as plt\n",
    "\n",
    "\n",
    "G = nx.Graph()\n",
    "names = ['Anna', 'Tim', 'Sofia', 'Lea']\n",
    "G.add_nodes_from(names)\n",
    "edges = [('Anna', 'Tim'), ('Anna', 'Sofia'), ('Anna', 'Lea'), ('Tim', 'Lea')]\n",
    "G.add_edges_from(edges)\n",
    "pos = nx.spring_layout(G)\n",
    "nx.draw(G, pos, with_labels=True, node_color=\"lightblue\", edge_color=\"black\", node_size=800, font_size=9)\n",
    "nx.draw_networkx_edges(G, pos, edgelist=[('Tim', 'Lea')], edge_color='black')\n",
    "nx.draw_networkx_edge_labels(G, pos, edge_labels={('Tim', 'Lea'): \"?\"})\n",
    "plt.suptitle(\"Link Prediction: Is Tim Friends with Lea?\")\n",
    "plt.savefig(\"link_prediction.png\")"
   ]
  }
 ],
 "metadata": {
  "kernelspec": {
   "display_name": "base",
   "language": "python",
   "name": "python3"
  },
  "language_info": {
   "codemirror_mode": {
    "name": "ipython",
    "version": 3
   },
   "file_extension": ".py",
   "mimetype": "text/x-python",
   "name": "python",
   "nbconvert_exporter": "python",
   "pygments_lexer": "ipython3",
   "version": "3.9.13"
  }
 },
 "nbformat": 4,
 "nbformat_minor": 2
}
